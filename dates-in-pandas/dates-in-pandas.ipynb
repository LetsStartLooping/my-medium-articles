{
 "cells": [
  {
   "cell_type": "code",
   "execution_count": null,
   "metadata": {},
   "outputs": [],
   "source": [
    "import pandas as pd"
   ]
  },
  {
   "cell_type": "code",
   "execution_count": null,
   "metadata": {},
   "outputs": [],
   "source": [
    "# Read City Temperatures from a `csv` file\n",
    "city_temperatures = pd.read_csv('city_temperature.csv')\n",
    "\n",
    "# As this dataset it too big, so we will be working with one country \n",
    "# (This step is optional)\n",
    "canada_temperatures = city_temperatures[city_temperatures.Country == 'Canada']\n",
    "\n",
    "# See sample\n",
    "canada_temperatures.sample(10)"
   ]
  },
  {
   "cell_type": "code",
   "execution_count": null,
   "metadata": {},
   "outputs": [],
   "source": [
    "# Create a pandas Series object called `date`\n",
    "date = pd.to_datetime(canada_temperatures[['Year', 'Month', 'Day']])\n",
    "\n",
    "# Add new columns to our dataset with this\n",
    "canada_temperatures.insert(len(canada_temperatures.columns), 'date', date)\n",
    "\n",
    "# See sample\n",
    "canada_temperatures.sample(10)"
   ]
  },
  {
   "cell_type": "code",
   "execution_count": null,
   "metadata": {},
   "outputs": [],
   "source": [
    "# Dropping Month, Day, and Year column\n",
    "canada_temperatures = canada_temperatures.drop(columns=['Month', 'Day', 'Year'])\n",
    "\n",
    "# See sample\n",
    "canada_temperatures.sample(10)"
   ]
  },
  {
   "cell_type": "code",
   "execution_count": null,
   "metadata": {},
   "outputs": [],
   "source": [
    "canada_temperatures['Month'] = canada_temperatures['date'].dt.month\n",
    "canada_temperatures.sample(10)"
   ]
  },
  {
   "cell_type": "code",
   "execution_count": null,
   "metadata": {},
   "outputs": [],
   "source": [
    "canada_temperatures['Day'] = canada_temperatures['date'].dt.day\n",
    "canada_temperatures['Year'] = canada_temperatures['date'].dt.year\n",
    "canada_temperatures['day_of_week'] = canada_temperatures['date'].dt.day_of_week\n",
    "canada_temperatures.sample(10)"
   ]
  }
 ],
 "metadata": {
  "kernelspec": {
   "display_name": "Python 3",
   "language": "python",
   "name": "python3"
  },
  "language_info": {
   "codemirror_mode": {
    "name": "ipython",
    "version": 3
   },
   "file_extension": ".py",
   "mimetype": "text/x-python",
   "name": "python",
   "nbconvert_exporter": "python",
   "pygments_lexer": "ipython3",
   "version": "3.9.2"
  },
  "orig_nbformat": 4,
  "vscode": {
   "interpreter": {
    "hash": "31f2aee4e71d21fbe5cf8b01ff0e069b9275f58929596ceb00d14d90e3e16cd6"
   }
  }
 },
 "nbformat": 4,
 "nbformat_minor": 2
}
