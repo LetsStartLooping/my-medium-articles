{
 "cells": [
  {
   "attachments": {},
   "cell_type": "markdown",
   "metadata": {},
   "source": [
    "# Different Calculations with Date and Time in Python"
   ]
  },
  {
   "attachments": {},
   "cell_type": "markdown",
   "metadata": {},
   "source": [
    "## Adding a Certain Number of Days"
   ]
  },
  {
   "cell_type": "code",
   "execution_count": 1,
   "metadata": {},
   "outputs": [
    {
     "name": "stdout",
     "output_type": "stream",
     "text": [
      "2022-01-14 15:30:24\n",
      "Date after adding 2 days:  2022-01-16 15:30:24\n"
     ]
    }
   ],
   "source": [
    "from datetime import datetime, timedelta\n",
    "\n",
    "# Create a date/time object\n",
    "date_time = datetime(year=2022, month=1, day=14, hour=15, minute=30, second=24)\n",
    "print(date_time)\n",
    "\n",
    "# Add two days\n",
    "date_time = date_time + timedelta(days=2)\n",
    "print(\"Date after adding 2 days: \", date_time)\n",
    "\n",
    "#------------------------------#\n",
    "# OUTPUT:\n",
    "#------------------------------#\n",
    "\n",
    "# 2022-01-14 15:30:24\n",
    "# Date after adding 2 days:  2022-01-16 15:30:24"
   ]
  },
  {
   "attachments": {},
   "cell_type": "markdown",
   "metadata": {},
   "source": [
    "## Adding Other Date/Time Parameters"
   ]
  },
  {
   "cell_type": "code",
   "execution_count": 2,
   "metadata": {},
   "outputs": [
    {
     "name": "stdout",
     "output_type": "stream",
     "text": [
      "2022-01-14 15:30:24\n",
      "Date after adding 2 days, 3 hours and 20 seconds:  2022-01-16 18:30:44\n"
     ]
    }
   ],
   "source": [
    "from datetime import datetime, timedelta\n",
    "\n",
    "# Create a date/time object\n",
    "date_time = datetime(year=2022, month=1, day=14, hour=15, minute=30, second=24)\n",
    "print(date_time)\n",
    "\n",
    "# Add two days\n",
    "date_time = date_time + timedelta(days=2, hours=3, seconds=20)\n",
    "print(\"Date after adding 2 days, 3 hours and 20 seconds: \", date_time)\n",
    "\n",
    "#------------------------------#\n",
    "# OUTPUT:\n",
    "#------------------------------#\n",
    "\n",
    "# 2022-01-14 15:30:24\n",
    "# Date after adding 2 days, 3 hours and 20 seconds:  2022-01-16 18:30:44"
   ]
  },
  {
   "attachments": {},
   "cell_type": "markdown",
   "metadata": {},
   "source": [
    "## Subtracting a Certain Number of Days"
   ]
  },
  {
   "cell_type": "code",
   "execution_count": 7,
   "metadata": {},
   "outputs": [
    {
     "name": "stdout",
     "output_type": "stream",
     "text": [
      "2022-02-01 15:30:24\n",
      "Date after subtracting 3 days:  2022-01-30 15:30:24\n"
     ]
    }
   ],
   "source": [
    "from datetime import datetime, timedelta\n",
    "\n",
    "# Create a date/time object\n",
    "date_time = datetime(year=2022, month=2, day=1, hour=15, minute=30, second=24)\n",
    "print(date_time)\n",
    "\n",
    "# Subtracting two days\n",
    "date_time = date_time + timedelta(days=-2)\n",
    "print(\"Date after subtracting 3 days: \", date_time)\n",
    "\n",
    "#------------------------------#\n",
    "# OUTPUT:\n",
    "#------------------------------#\n",
    "\n",
    "# 2022-02-01 15:30:24\n",
    "# Date after subtracting 3 days:  2022-01-30 15:30:24"
   ]
  },
  {
   "attachments": {},
   "cell_type": "markdown",
   "metadata": {},
   "source": [
    "## Mixed Calculations"
   ]
  },
  {
   "cell_type": "code",
   "execution_count": 8,
   "metadata": {},
   "outputs": [
    {
     "name": "stdout",
     "output_type": "stream",
     "text": [
      "2022-02-01 15:30:24\n",
      "Date after adding 3 days, subtracting 4 minutes, and adding 2 hours:  2022-02-04 17:26:24\n"
     ]
    }
   ],
   "source": [
    "from datetime import datetime, timedelta\n",
    "\n",
    "# Create a date/time object\n",
    "date_time = datetime(year=2022, month=2, day=1, hour=15, minute=30, second=24)\n",
    "print(date_time)\n",
    "\n",
    "# Adding 3 days, subtracting 4 minutes, and adding 2 hours\n",
    "date_time = date_time + timedelta(days=3, minutes=-4, hours=2)\n",
    "print(\"Date after adding 3 days, subtracting 4 minutes, and adding 2 hours: \", date_time)\n",
    "\n",
    "#------------------------------#\n",
    "# OUTPUT:\n",
    "#------------------------------#\n",
    "\n",
    "# 2022-02-01 15:30:24\n",
    "# Date after adding 3 days, subtracting 4 minutes, and adding 2 hours:  2022-02-04 17:26:24"
   ]
  },
  {
   "cell_type": "code",
   "execution_count": null,
   "metadata": {},
   "outputs": [],
   "source": []
  }
 ],
 "metadata": {
  "kernelspec": {
   "display_name": "Python 3",
   "language": "python",
   "name": "python3"
  },
  "language_info": {
   "codemirror_mode": {
    "name": "ipython",
    "version": 3
   },
   "file_extension": ".py",
   "mimetype": "text/x-python",
   "name": "python",
   "nbconvert_exporter": "python",
   "pygments_lexer": "ipython3",
   "version": "3.9.2"
  },
  "orig_nbformat": 4,
  "vscode": {
   "interpreter": {
    "hash": "e7370f93d1d0cde622a1f8e1c04877d8463912d04d973331ad4851f04de6915a"
   }
  }
 },
 "nbformat": 4,
 "nbformat_minor": 2
}
